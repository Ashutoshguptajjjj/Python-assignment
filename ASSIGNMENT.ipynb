{
 "cells": [
  {
   "cell_type": "markdown",
   "id": "83c6398b",
   "metadata": {},
   "source": [
    "# Part 1: DSA\n"
   ]
  },
  {
   "cell_type": "markdown",
   "id": "0dc27d5d",
   "metadata": {},
   "source": [
    "## Problem 1: Stack\n",
    "Implement a stack data structure in Python. The stack should support the following operations:\n",
    "1. push(item) - Add an item to the top of the stack.\n",
    "2. pop() - Remove and return the item on the top of the stack.\n",
    "3. peek() - Return the item on the top of the stack without removing it.\n",
    "4. is_empty() - Return True if the stack is empty, else False.\n"
   ]
  },
  {
   "cell_type": "markdown",
   "id": "0c145bfa",
   "metadata": {},
   "source": [
    "# Answer:-"
   ]
  },
  {
   "cell_type": "markdown",
   "id": "c605186a",
   "metadata": {},
   "source": [
    "Stack:- A stack is a linear data structure that stores items in a Last-In First-Out (LIFO) or First-In Last-Out (FILO) manner."
   ]
  },
  {
   "cell_type": "markdown",
   "id": "43737985",
   "metadata": {},
   "source": [
    "The implementation of a stack in Python can be done in three ways.\n",
    "\n",
    "1. list\n",
    "2. Collections.deque\n",
    "3. queue.LifoQueue\n",
    " \n",
    "However, I can use collections.deque"
   ]
  },
  {
   "cell_type": "code",
   "execution_count": 4,
   "id": "39e14984",
   "metadata": {},
   "outputs": [
    {
     "name": "stdout",
     "output_type": "stream",
     "text": [
      "Initial stack:\n",
      "deque(['a', 'b', 'c'])\n"
     ]
    }
   ],
   "source": [
    "# stack implementation using collections.deque\n",
    "\n",
    "from collections import deque\n",
    "\n",
    "stack = deque()\n",
    "\n",
    "# 1. append() function is used to push element in the stack\n",
    "\n",
    "stack.append('a')\n",
    "stack.append('b')\n",
    "stack.append('c')\n",
    "\n",
    "print('Initial stack:')\n",
    "print(stack)\n",
    "\n",
    "\n",
    "\n"
   ]
  },
  {
   "cell_type": "code",
   "execution_count": 5,
   "id": "69187269",
   "metadata": {},
   "outputs": [
    {
     "name": "stdout",
     "output_type": "stream",
     "text": [
      "\n",
      "Elements popped from stack:\n",
      "c\n",
      "b\n",
      "a\n",
      "\n",
      "Stack after elements are popped:\n",
      "deque([])\n"
     ]
    }
   ],
   "source": [
    "# 2. pop() function to pop element from stack in LIFO order\n",
    "print('\\nElements popped from stack:')\n",
    "print(stack.pop())\n",
    "print(stack.pop())\n",
    "print(stack.pop())\n",
    "\n",
    "print('\\nStack after elements are popped:')\n",
    "print(stack)\n"
   ]
  },
  {
   "cell_type": "code",
   "execution_count": 6,
   "id": "7e0ea9ba",
   "metadata": {},
   "outputs": [
    {
     "name": "stdout",
     "output_type": "stream",
     "text": [
      "1\n"
     ]
    }
   ],
   "source": [
    "# 3. peek() - Return the item on the top of the stack without removing it.\n",
    "\n",
    "def peek(lst):\n",
    "    if len(lst) > 0:\n",
    "        return lst[0]\n",
    "    else:\n",
    "        return None\n",
    "\n",
    "my_list = [1, 2, 3, 4, 5]\n",
    "print(peek(my_list))  \n",
    "    "
   ]
  },
  {
   "cell_type": "code",
   "execution_count": 13,
   "id": "0bf3748e",
   "metadata": {},
   "outputs": [
    {
     "name": "stdout",
     "output_type": "stream",
     "text": [
      "True\n"
     ]
    }
   ],
   "source": [
    "# 4. is_empty() - Return True if the stack is empty, else False.\n",
    "\n",
    "def is_empty(my_list):\n",
    "    for _ in my_list:\n",
    "        return False\n",
    "    return True\n",
    "\n",
    "my_list=[]\n",
    "print(is_empty(my_list)) "
   ]
  },
  {
   "cell_type": "markdown",
   "id": "0e741c8a",
   "metadata": {},
   "source": [
    "## Problem 2: Queue\n",
    "Implement a queue data structure in Python. The queue should support the following operations:\n",
    "1. enqueue(item) - Add an item to the back of the queue.\n",
    "2. dequeue() - Remove and return the item at the front of the queue.\n",
    "3. peek() - Return the item at the front of the queue without removing it.\n",
    "4. is_empty() - Return True if the queue is empty, else False.\n"
   ]
  },
  {
   "cell_type": "markdown",
   "id": "565d82b3",
   "metadata": {},
   "source": [
    "## Answer:-"
   ]
  },
  {
   "cell_type": "code",
   "execution_count": 25,
   "id": "84f34123",
   "metadata": {},
   "outputs": [
    {
     "name": "stdout",
     "output_type": "stream",
     "text": [
      "[1, 2, 3]\n"
     ]
    }
   ],
   "source": [
    "# 1. enqueue(item) - Add an item to the back of the queue.\n",
    "class Queue:\n",
    "    def __init__(self):\n",
    "        self.items = []\n",
    "\n",
    "    def enqueue(self, item):\n",
    "        self.items.append(item)\n",
    "\n",
    "q = Queue()\n",
    "q.enqueue(1)\n",
    "q.enqueue(2)\n",
    "q.enqueue(3)\n",
    "\n",
    "print(q.items)"
   ]
  },
  {
   "cell_type": "code",
   "execution_count": 29,
   "id": "9a2fdb9e",
   "metadata": {},
   "outputs": [
    {
     "name": "stdout",
     "output_type": "stream",
     "text": [
      "0\n",
      "2\n",
      "1\n"
     ]
    }
   ],
   "source": [
    "# 2. dequeue() - Remove and return the item at the front of the queue.\n",
    "\n",
    "class Deque:\n",
    "    def __init__(self):\n",
    "        self.items = []\n",
    "# 4. is_empty() - Return True if the queue is empty, else False.\n",
    "   \n",
    "    def is_empty(self):\n",
    "        return len(self.items) == 0\n",
    "\n",
    "    def add_front(self, item):\n",
    "        self.items.insert(0, item)\n",
    "\n",
    "    def add_rear(self, item):\n",
    "        self.items.append(item)\n",
    "\n",
    "    def remove_front(self):\n",
    "        if self.is_empty():\n",
    "            return None\n",
    "        return self.items.pop(0)\n",
    "\n",
    "    def remove_rear(self):\n",
    "        if self.is_empty():\n",
    "            return None\n",
    "        return self.items.pop()\n",
    "\n",
    "    def size(self):\n",
    "        return len(self.items)\n",
    "\n",
    "    def dequeue(self):\n",
    "        if self.is_empty():\n",
    "            return None\n",
    "        front_item = self.items[0]\n",
    "        self.items = self.items[1:]\n",
    "        return front_item\n",
    "\n",
    "my_deque = Deque()\n",
    "\n",
    "my_deque.add_front(1)\n",
    "my_deque.add_rear(2)\n",
    "my_deque.add_front(0)\n",
    "\n",
    "print(my_deque.remove_front())  \n",
    "print(my_deque.remove_rear())  \n",
    "print(my_deque.size())  \n",
    "\n"
   ]
  },
  {
   "cell_type": "markdown",
   "id": "442eee2b",
   "metadata": {},
   "source": [
    "# Problem 3: Binary Search Tree\n",
    "Implement a binary search tree (BST) data structure in Python. The BST should support the following operations:\n",
    "1. insert(item) - Insert an item into the tree.\n",
    "2. delete(item) - Remove an item from the tree.\n",
    "3. search(item) - Return True if the item is in the tree, else False.\n",
    "4. size() - Return the number of nodes in the tree.\n"
   ]
  },
  {
   "cell_type": "code",
   "execution_count": 1,
   "id": "608c1d1b",
   "metadata": {},
   "outputs": [],
   "source": [
    "#1.insert(item) - Insert an item into the tree.\n",
    "\n",
    "class Node:\n",
    "    def __init__(self, key):\n",
    "        self.left = None\n",
    "        self.right = None\n",
    "        self.val = key\n",
    "\n",
    "def insert(root, key):\n",
    "    if root is None:\n",
    "        return Node(key)\n",
    "    else:\n",
    "        if root.val == key:\n",
    "            return root\n",
    "        elif root.val < key:\n",
    "            root.right = insert(root.right, key)\n",
    "        else:\n",
    "            root.left = insert(root.left, key)\n",
    "    return root\n",
    "\n",
    "\n",
    "\n"
   ]
  },
  {
   "cell_type": "code",
   "execution_count": 2,
   "id": "0abd2be4",
   "metadata": {},
   "outputs": [
    {
     "data": {
      "text/plain": [
       "<__main__.Node at 0x1bf932db4c0>"
      ]
     },
     "execution_count": 2,
     "metadata": {},
     "output_type": "execute_result"
    }
   ],
   "source": [
    "root = Node(5)\n",
    "insert(root, 3)\n",
    "insert(root, 7)\n",
    "insert(root, 1)\n",
    "insert(root, 9)\n",
    " \n",
    "\n",
    "     "
   ]
  },
  {
   "cell_type": "code",
   "execution_count": 13,
   "id": "579a69d2",
   "metadata": {},
   "outputs": [
    {
     "name": "stdout",
     "output_type": "stream",
     "text": [
      "Inorder traversal of the given tree\n",
      "20 30 40 50 60 70 80 \n",
      "Delete 20\n",
      "Inorder traversal of the modified tree\n",
      "30 40 50 60 70 80 \n",
      "Delete 30\n",
      "Inorder traversal of the modified tree\n",
      "40 50 60 70 80 \n",
      "Delete 50\n",
      "Inorder traversal of the modified tree\n",
      "40 60 70 80 "
     ]
    }
   ],
   "source": [
    "# 2.delete(item) - Remove an item from the tree.\n",
    "\n",
    "\n",
    "class Node:\n",
    "\n",
    "# Constructor to create a new node\n",
    "\tdef __init__(self, key):\n",
    "\t\tself.key = key\n",
    "\t\tself.left = None\n",
    "\t\tself.right = None\n",
    "\n",
    "def inorder(root):\n",
    "\tif root is not None:\n",
    "\t\tinorder(root.left)\n",
    "\t\tprint(root.key, end=\" \")\n",
    "\t\tinorder(root.right)\n",
    "\n",
    "def insert(node, key):\n",
    "\n",
    "\t# If the tree is empty, return a new node\n",
    "\tif node is None:\n",
    "\t\treturn Node(key)\n",
    "\n",
    "\tif key < node.key:\n",
    "\t\tnode.left = insert(node.left, key)\n",
    "\telse:\n",
    "\t\tnode.right = insert(node.right, key)\n",
    "\n",
    "\treturn node\n",
    "\n",
    "def minValueNode(node):\n",
    "\tcurrent = node\n",
    "\n",
    "\t# loop down to find the leftmost leaf\n",
    "\twhile(current.left is not None):\n",
    "\t\tcurrent = current.left\n",
    "\n",
    "\treturn current\n",
    "\n",
    "def deleteNode(root, key):\n",
    "\n",
    "\t# Base Case\n",
    "\tif root is None:\n",
    "\t\treturn root\n",
    "\n",
    "\t# If the key to be deleted\n",
    "\t# is smaller than the root's\n",
    "\t# key then it lies in left subtree\n",
    "\tif key < root.key:\n",
    "\t\troot.left = deleteNode(root.left, key)\n",
    "\n",
    "\t# If the key to be delete\n",
    "\t# is greater than the root's key\n",
    "\t# then it lies in right subtree\n",
    "\telif(key > root.key):\n",
    "\t\troot.right = deleteNode(root.right, key)\n",
    "\n",
    "\t# If key is same as root's key, then this is the node\n",
    "\t# to be deleted\n",
    "\telse:\n",
    "\n",
    "\t\t# Node with only one child or no child\n",
    "\t\tif root.left is None:\n",
    "\t\t\ttemp = root.right\n",
    "\t\t\troot = None\n",
    "\t\t\treturn temp\n",
    "\n",
    "\t\telif root.right is None:\n",
    "\t\t\ttemp = root.left\n",
    "\t\t\troot = None\n",
    "\t\t\treturn temp\n",
    "\n",
    "\t\t# Node with two children:\n",
    "\t\t# Get the inorder successor\n",
    "\t\t# (smallest in the right subtree)\n",
    "\t\ttemp = minValueNode(root.right)\n",
    "\n",
    "\t\t# Copy the inorder successor's\n",
    "\t\t# content to this node\n",
    "\t\troot.key = temp.key\n",
    "\n",
    "\t\t# Delete the inorder successor\n",
    "\t\troot.right = deleteNode(root.right, temp.key)\n",
    "\n",
    "\treturn root\n",
    "\n",
    "root = None\n",
    "root = insert(root, 50)\n",
    "root = insert(root, 30)\n",
    "root = insert(root, 20)\n",
    "root = insert(root, 40)\n",
    "root = insert(root, 70)\n",
    "root = insert(root, 60)\n",
    "root = insert(root, 80)\n",
    "\n",
    "print(\"Inorder traversal of the given tree\")\n",
    "inorder(root)\n",
    "\n",
    "print(\"\\nDelete 20\")\n",
    "root = deleteNode(root, 20)\n",
    "print(\"Inorder traversal of the modified tree\")\n",
    "inorder(root)\n",
    "\n",
    "print(\"\\nDelete 30\")\n",
    "root = deleteNode(root, 30)\n",
    "print(\"Inorder traversal of the modified tree\")\n",
    "inorder(root)\n",
    "\n",
    "print(\"\\nDelete 50\")\n",
    "root = deleteNode(root, 50)\n",
    "print(\"Inorder traversal of the modified tree\")\n",
    "inorder(root)\n",
    "\n",
    "# This code is contributed by Nikhil Kumar Singh(nickzuck_007)\n"
   ]
  },
  {
   "cell_type": "code",
   "execution_count": 14,
   "id": "8516513e",
   "metadata": {},
   "outputs": [],
   "source": [
    "# 3 search(item) - Return True if the item is in the tree, else False.\n",
    "class Node:\n",
    "    def __init__(self, data):\n",
    "        self.left = None\n",
    "        self.right = None\n",
    "        self.data = data\n",
    "\n",
    "class BinaryTree:\n",
    "    def __init__(self):\n",
    "        self.root = None\n",
    "\n",
    "    def search(self, item):\n",
    "        current = self.root\n",
    "        while current is not None:\n",
    "            if item == current.data:\n",
    "                return True\n",
    "            elif item < current.data:\n",
    "                current = current.left\n",
    "            else:\n",
    "                current = current.right\n",
    "        return False\n"
   ]
  },
  {
   "cell_type": "code",
   "execution_count": 15,
   "id": "0a9d3730",
   "metadata": {},
   "outputs": [
    {
     "name": "stdout",
     "output_type": "stream",
     "text": [
      "Size of the tree is 5\n"
     ]
    }
   ],
   "source": [
    "# 4 size() - Return the number of nodes in the tree.\n",
    "\n",
    "# A binary tree node\n",
    "class Node:\n",
    "\n",
    "\t# Constructor to create a new node\n",
    "\tdef __init__(self, data):\n",
    "\t\tself.data = data\n",
    "\t\tself.left = None\n",
    "\t\tself.right = None\n",
    "\n",
    "# Computes the number of nodes in tree\n",
    "def size(node):\n",
    "\tif node is None:\n",
    "\t\treturn 0\n",
    "\telse:\n",
    "\t\treturn (size(node.left)+ 1 + size(node.right))\n",
    "\n",
    "\n",
    "\n",
    "root = Node(1)\n",
    "root.left = Node(2)\n",
    "root.right = Node(3)\n",
    "root.left.left = Node(4)\n",
    "root.left.right = Node(5)\n",
    "\n",
    "print(\"Size of the tree is %d\" %(size(root)))\n",
    "\n",
    "\n",
    "\n"
   ]
  },
  {
   "cell_type": "markdown",
   "id": "c75dada7",
   "metadata": {},
   "source": [
    "# Part 2: Python"
   ]
  },
  {
   "cell_type": "markdown",
   "id": "9da5305b",
   "metadata": {},
   "source": [
    "## Problem 1: Anagram Checker"
   ]
  },
  {
   "cell_type": "markdown",
   "id": "2a11cc88",
   "metadata": {},
   "source": [
    "Write a Python function that takes in two strings and returns True if they are anagrams of each other, else False. An anagram is a word or phrase formed by rearranging the letters of a different word or phrase, typically using all the original letters exactly once.\n"
   ]
  },
  {
   "cell_type": "markdown",
   "id": "764e52b2",
   "metadata": {},
   "source": [
    "### SOLUTION"
   ]
  },
  {
   "cell_type": "code",
   "execution_count": 19,
   "id": "2c9289c3",
   "metadata": {},
   "outputs": [
    {
     "data": {
      "text/plain": [
       "True"
      ]
     },
     "execution_count": 19,
     "metadata": {},
     "output_type": "execute_result"
    }
   ],
   "source": [
    "def is_anagram(str1, str2):\n",
    "    # Remove all whitespace from both strings and convert them to lowercase\n",
    "    str1 = str1.replace(\" \", \"\").lower()\n",
    "    str2 = str2.replace(\" \", \"\").lower()\n",
    "\n",
    "    # Check if the two strings have the same length\n",
    "    if len(str1) != len(str2):\n",
    "        return False\n",
    "\n",
    "    # Convert both strings to lists of characters and sort them\n",
    "    str1_list = sorted(list(str1))\n",
    "    str2_list = sorted(list(str2))\n",
    "\n",
    "    # Check if the two lists are equal\n",
    "    return str1_list == str2_list\n",
    "\n",
    "is_anagram(\"ashu\",\"ashu\")"
   ]
  },
  {
   "cell_type": "markdown",
   "id": "a610d492",
   "metadata": {},
   "source": [
    "## Problem 2: FizzBuzz\n"
   ]
  },
  {
   "cell_type": "markdown",
   "id": "90e1ece3",
   "metadata": {},
   "source": [
    "Write a Python function that takes in an integer n and prints the numbers from 1 to n. For multiples of 3, print \"Fizz\" instead of the number. For multiples of 5, print \"Buzz\" instead of the number. For multiples of both 3 and 5, print \"FizzBuzz\" instead of the number."
   ]
  },
  {
   "cell_type": "markdown",
   "id": "90140ad4",
   "metadata": {},
   "source": [
    "### Solution"
   ]
  },
  {
   "cell_type": "code",
   "execution_count": 20,
   "id": "fe6dcfd4",
   "metadata": {},
   "outputs": [
    {
     "name": "stdout",
     "output_type": "stream",
     "text": [
      "1\n",
      "2\n",
      "Fizz\n",
      "4\n"
     ]
    }
   ],
   "source": [
    "def fizzbuzz(n):\n",
    "    for i in range(1, n+1):\n",
    "        if i % 3 == 0 and i % 5 == 0:\n",
    "            print(\"FizzBuzz\")\n",
    "        elif i % 3 == 0:\n",
    "            print(\"Fizz\")\n",
    "        elif i % 5 == 0:\n",
    "            print(\"Buzz\")\n",
    "        else:\n",
    "            print(i)\n",
    "           \n",
    "        \n",
    "fizzbuzz(4)"
   ]
  },
  {
   "cell_type": "markdown",
   "id": "68266acf",
   "metadata": {},
   "source": [
    "## Problem 3: Fibonacci Sequence"
   ]
  },
  {
   "cell_type": "markdown",
   "id": "fca94db7",
   "metadata": {},
   "source": [
    "Write a Python function that takes in an integer n and returns the nth number in the Fibonacci sequence. The Fibonacci sequence is a series of numbers in which each number after the first two is the sum of the two preceding ones.\n"
   ]
  },
  {
   "cell_type": "markdown",
   "id": "2f0fc808",
   "metadata": {},
   "source": [
    "### Solution"
   ]
  },
  {
   "cell_type": "code",
   "execution_count": 23,
   "id": "12e67a6f",
   "metadata": {},
   "outputs": [
    {
     "data": {
      "text/plain": [
       "13"
      ]
     },
     "execution_count": 23,
     "metadata": {},
     "output_type": "execute_result"
    }
   ],
   "source": [
    "def fibonacci(n):\n",
    "    if n == 1 or n == 2:\n",
    "        return 1\n",
    "    else:\n",
    "        return fibonacci(n-1) + fibonacci(n-2)\n",
    "fibonacci(7)"
   ]
  },
  {
   "cell_type": "code",
   "execution_count": null,
   "id": "080a1eaf",
   "metadata": {},
   "outputs": [],
   "source": []
  }
 ],
 "metadata": {
  "kernelspec": {
   "display_name": "Python 3 (ipykernel)",
   "language": "python",
   "name": "python3"
  },
  "language_info": {
   "codemirror_mode": {
    "name": "ipython",
    "version": 3
   },
   "file_extension": ".py",
   "mimetype": "text/x-python",
   "name": "python",
   "nbconvert_exporter": "python",
   "pygments_lexer": "ipython3",
   "version": "3.9.13"
  }
 },
 "nbformat": 4,
 "nbformat_minor": 5
}
